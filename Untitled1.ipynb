{
 "cells": [
  {
   "cell_type": "code",
   "execution_count": null,
   "id": "18a71ef0",
   "metadata": {},
   "outputs": [],
   "source": [
    "# -*- coding: utf-8 -*-\n",
    "import numpy as np\n",
    "import matplotlib.pyplot as plt\n",
    "\n",
    "# データのパラメータ\n",
    "N = 256            # サンプル数\n",
    "dt = 0.01          # サンプリング間隔\n",
    "f1, f2 = 10, 20    # 周波数\n",
    "t = np.arange(0, N*dt, dt)  # 時間軸\n",
    "freq = np.linspace(0, 1.0/dt, N)  # 周波数軸\n",
    "\n",
    "# 信号を生成（周波数10の正弦波+周波数20の正弦波+ランダムノイズ）\n",
    "f = np.sin(2*np.pi*f1*t) + np.sin(2*np.pi*f2*t) + 0.3 * np.random.randn(N)\n",
    "\n",
    "# 高速フーリエ変換\n",
    "F = np.fft.fft(f)\n",
    "\n",
    "# 振幅スペクトルを計算\n",
    "Amp = np.abs(F)\n",
    "\n",
    "# パワースペクトルの計算（振幅スペクトルの二乗）\n",
    "Pow = Amp ** 2\n",
    "\n",
    "# グラフ表示\n",
    "plt.figure()\n",
    "plt.rcParams['font.family'] = 'Times New Roman'\n",
    "plt.rcParams['font.size'] = 17\n",
    "plt.subplot(121)\n",
    "plt.plot(t, f, label='f(n)')\n",
    "plt.xlabel(\"Time\", fontsize=20)\n",
    "plt.ylabel(\"Signal\", fontsize=20)\n",
    "plt.grid()\n",
    "leg = plt.legend(loc=1, fontsize=25)\n",
    "leg.get_frame().set_alpha(1)\n",
    "plt.subplot(122)\n",
    "plt.plot(freq, Pow, label='|F(k)|')\n",
    "plt.xlabel('Frequency', fontsize=20)\n",
    "plt.ylabel('Amplitude', fontsize=20)\n",
    "plt.grid()\n",
    "leg = plt.legend(loc=1, fontsize=25)\n",
    "leg.get_frame().set_alpha(1)\n",
    "plt.show()"
   ]
  }
 ],
 "metadata": {
  "kernelspec": {
   "display_name": "Python 3",
   "language": "python",
   "name": "python3"
  },
  "language_info": {
   "codemirror_mode": {
    "name": "ipython",
    "version": 3
   },
   "file_extension": ".py",
   "mimetype": "text/x-python",
   "name": "python",
   "nbconvert_exporter": "python",
   "pygments_lexer": "ipython3",
   "version": "3.8.8"
  }
 },
 "nbformat": 4,
 "nbformat_minor": 5
}
